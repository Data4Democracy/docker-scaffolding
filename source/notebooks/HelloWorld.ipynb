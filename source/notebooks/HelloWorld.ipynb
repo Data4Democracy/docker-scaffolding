{
 "cells": [
  {
   "cell_type": "code",
   "execution_count": null,
   "metadata": {
    "collapsed": false
   },
   "outputs": [],
   "source": [
    "\"Hello, world.\""
   ]
  },
  {
   "cell_type": "code",
   "execution_count": null,
   "metadata": {
    "collapsed": false
   },
   "outputs": [],
   "source": [
    "from d4d.database import get_pg_db_from_env\n",
    "db = get_pg_db_from_env()\n",
    "db.query('SELECT * FROM greeting').all()"
   ]
  },
  {
   "cell_type": "code",
   "execution_count": null,
   "metadata": {
    "collapsed": false
   },
   "outputs": [],
   "source": [
    "from pymongo import MongoClient, ReturnDocument\n",
    "client = MongoClient('mongo')\n",
    "database = client.project\n",
    "collection = database.greeting\n",
    "collection.find_one_and_update(\n",
    "    {'salutation': 'Hola'},\n",
    "    {'$inc': {'instances': 1}},\n",
    "    upsert=True,\n",
    "    return_document=ReturnDocument.AFTER)"
   ]
  },
  {
   "cell_type": "code",
   "execution_count": null,
   "metadata": {
    "collapsed": true
   },
   "outputs": [],
   "source": []
  }
 ],
 "metadata": {
  "kernelspec": {
   "display_name": "Python 3",
   "language": "python",
   "name": "python3"
  },
  "language_info": {
   "codemirror_mode": {
    "name": "ipython",
    "version": 3
   },
   "file_extension": ".py",
   "mimetype": "text/x-python",
   "name": "python",
   "nbconvert_exporter": "python",
   "pygments_lexer": "ipython3",
   "version": "3.6.0"
  }
 },
 "nbformat": 4,
 "nbformat_minor": 2
}
